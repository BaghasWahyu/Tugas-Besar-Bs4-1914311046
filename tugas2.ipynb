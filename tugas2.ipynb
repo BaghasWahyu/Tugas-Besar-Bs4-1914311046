{
 "metadata": {
  "language_info": {
   "codemirror_mode": {
    "name": "ipython",
    "version": 3
   },
   "file_extension": ".py",
   "mimetype": "text/x-python",
   "name": "python",
   "nbconvert_exporter": "python",
   "pygments_lexer": "ipython3",
   "version": 3
  },
  "orig_nbformat": 2
 },
 "nbformat": 4,
 "nbformat_minor": 2,
 "cells": [
  {
   "cell_type": "code",
   "execution_count": null,
   "metadata": {},
   "outputs": [],
   "source": [
    "from bs4 import BeautifulSoup as bs\n",
    "from requests.api import get\n",
    "import sys\n",
    "import os\n"
   ]
  },
  {
   "cell_type": "code",
   "execution_count": null,
   "metadata": {},
   "outputs": [],
   "source": [
    "folder = \"/content/Tugas-Besar-Bs4-1914311046/\"\n",
    "for filename in os.listdir(folder):\n",
    "    if filename.endswith(\".html\"):\n",
    "        fname = os.path.join(folder, filename)\n",
    "        # print(\"Filename: {}\".format(fname))\n",
    "\n",
    "        with open(fname, \"r\") as f:\n",
    "            soup = bs(f.read(), \"html.parser\")\n",
    "            info = soup.find_all(\"a\", href=True)\n",
    "\n",
    "        for i in info:\n",
    "            new = i.get(\"href\")\n",
    "            if \"https://www.wavsource.com/snds_2020-10-01\" in new:\n",
    "                print(new)"
   ]
  }
 ]
}