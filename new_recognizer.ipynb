{
  "nbformat": 4,
  "nbformat_minor": 0,
  "metadata": {
    "colab": {
      "name": "Untitled3.ipynb",
      "provenance": [],
      "collapsed_sections": [],
      "authorship_tag": "ABX9TyOrlu+ZYi39dV6MCQQO0apt",
      "include_colab_link": true
    },
    "kernelspec": {
      "name": "python388jvsc74a57bd0827bd1092702366d7b95ec0e1c26a7146c0c20f7767c239f53597f5a9a2f890b",
      "display_name": "Python 3.8.8 64-bit"
    },
    "language_info": {
      "name": "python",
      "version": "3.8.8"
    },
    "accelerator": "GPU",
    "metadata": {
      "interpreter": {
        "hash": "827bd1092702366d7b95ec0e1c26a7146c0c20f7767c239f53597f5a9a2f890b"
      }
    }
  },
  "cells": [
    {
      "cell_type": "markdown",
      "metadata": {
        "id": "view-in-github",
        "colab_type": "text"
      },
      "source": [
        "<a href=\"https://colab.research.google.com/github/BaghasWahyu/Tugas-Besar-Bs4-1914311046/blob/main/new_recognizer.ipynb\" target=\"_parent\"><img src=\"https://colab.research.google.com/assets/colab-badge.svg\" alt=\"Open In Colab\"/></a>"
      ]
    },
    {
      "cell_type": "code",
      "metadata": {
        "colab": {
          "base_uri": "https://localhost:8080/"
        },
        "id": "7P2l4w-DCmnY",
        "outputId": "03abe8e8-d263-4017-b3db-95fbb12b2d49"
      },
      "source": [
        "!git clone https://github.com/BaghasWahyu/Tugas-Besar-Bs4-1914311046.git"
      ],
      "execution_count": null,
      "outputs": []
    },
    {
      "cell_type": "code",
      "metadata": {
        "colab": {
          "base_uri": "https://localhost:8080/"
        },
        "id": "LZciZ69Vh_nH",
        "outputId": "07ec9709-8ea5-4884-bbef-b0c5f60add3d"
      },
      "source": [
        "!pip install ibm_watson"
      ],
      "execution_count": null,
      "outputs": []
    },
    {
      "cell_type": "code",
      "metadata": {
        "id": "buizxuuGh1BT"
      },
      "source": [
        "from ibm_watson import SpeechToTextV1\n",
        "from ibm_watson.websocket import RecognizeCallback, AudioSource \n",
        "from ibm_cloud_sdk_core.authenticators import IAMAuthenticator\n",
        "from pathlib import Path\n",
        "import os"
      ],
      "execution_count": null,
      "outputs": []
    },
    {
      "cell_type": "code",
      "execution_count": null,
      "metadata": {},
      "outputs": [],
      "source": [
        "# sys.stdout = open(\"Hasil Pengenalan.txt\", \"w\") "
      ]
    },
    {
      "cell_type": "code",
      "metadata": {
        "id": "gkrzFwWXh6Si"
      },
      "source": [
        "apikey = 'API disini'\n",
        "url = 'URL disini'  "
      ],
      "execution_count": null,
      "outputs": []
    },
    {
      "cell_type": "code",
      "metadata": {
        "id": "AqUjv3Noh2pG"
      },
      "source": [
        "authenticator = IAMAuthenticator(apikey)\n",
        "stt = SpeechToTextV1(authenticator=authenticator)\n",
        "stt.set_service_url(url)"
      ],
      "execution_count": null,
      "outputs": []
    },
    {
      "cell_type": "code",
      "metadata": {
        "colab": {
          "base_uri": "https://localhost:8080/",
          "height": 921
        },
        "id": "2ijagdrxj27x",
        "outputId": "2bf674e4-79b8-4e4b-f3e6-9f39cd549090"
      },
      "source": [
        "for i in os.listdir(\"/content/Tugas-Besar-Bs4-1914311046/wavfile/\"):\n",
        "  path = \"/content/Tugas-Besar-Bs4-1914311046/wavfile/\" + i\n",
        "  with open(path, 'rb') as file:\n",
        "    try:\n",
        "      print(\"Sedang mengenali audio\")\n",
        "      print(\"-\"*100)\n",
        "      res = stt.recognize(audio=file, content_type='audio/wav', model='en-US_NarrowbandModel', continuous=True).get_result()\n",
        "      text = res['results'][0]['alternatives'][0]['transcript']\n",
        "      confidence = res['results'][0]['alternatives'][0]['confidence']\n",
        "      print(\"Nama File        : \"+ file.name)\n",
        "      print(\"Hasil pengenalan : \"+ text)\n",
        "      print(\"Tingkat Confindence  : \"+confidence)\n",
        "      print(\" \"*100)\n",
        "    except Exception as ex:\n",
        "      print(ex)"
      ],
      "execution_count": null,
      "outputs": []
    },
    {
      "cell_type": "code",
      "metadata": {
        "id": "DZwkHMwo7hkB"
      },
      "source": [
        "# sys.stdout.close()"
      ],
      "execution_count": null,
      "outputs": []
    }
  ]
}